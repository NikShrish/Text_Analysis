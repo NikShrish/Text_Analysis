{
  "nbformat": 4,
  "nbformat_minor": 0,
  "metadata": {
    "colab": {
      "name": "digitcount.ipynb",
      "provenance": []
    },
    "kernelspec": {
      "name": "python3",
      "display_name": "Python 3"
    }
  },
  "cells": [
    {
      "cell_type": "code",
      "metadata": {
        "id": "XWuXZFVo3bAl",
        "colab_type": "code",
        "colab": {
          "base_uri": "https://localhost:8080/",
          "height": 34
        },
        "outputId": "31e33432-2f40-4cd4-d426-cfc535a42283"
      },
      "source": [
        "import re\n",
        "with open('nik.txt', 'r') as f:\n",
        "    result = sum(map(int, re.findall(r'[0-9]+', f.read())))\n",
        "\n",
        "print(result)"
      ],
      "execution_count": 14,
      "outputs": [
        {
          "output_type": "stream",
          "text": [
            "427709\n"
          ],
          "name": "stdout"
        }
      ]
    }
  ]
}